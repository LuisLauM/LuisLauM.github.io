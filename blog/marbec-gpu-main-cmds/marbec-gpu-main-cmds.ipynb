{
  "cells": [
    {
      "cell_type": "raw",
      "metadata": {},
      "source": [
        "---\n",
        "title: \"Main commands in `marbec-gpu`\"\n",
        "description: |\n",
        "  A quick list of the main commands to use within the `marbec-gpu` Terminal. | Une liste rapide des principales commandes à utiliser dans le Terminal `marbec-gpu`. | Un listado rápido de los principales comandos para usar dentro de la Terminal de `marbec-gpu`.\n",
        "date: 2024-10-22\n",
        "image: banner.jpg\n",
        "about: \n",
        "  template: marquee\n",
        "  image-shape: rectangle\n",
        "draft: true\n",
        "---"
      ],
      "id": "7f9898e3"
    },
    {
      "cell_type": "markdown",
      "metadata": {},
      "source": [
        "Image credits: Kajetan Sumila at [Unplash](https://unsplash.com/photos/black-metal-tools-on-brown-wooden-shelf-sXPR9JV270c?utm_content=creditShareLink&utm_medium=referral&utm_source=unsplash)\n",
        "\n",
        "# \\[EN\\] Main commands in `marbec-gpu`\n",
        "\n",
        "# \\[ES\\] Principales comandos en `marbec-gpu`\n",
        "\n",
        "Lo primero que debemos tener en cuenta es que `marbec-gpu` lleva instalado Ubuntu, por lo que los comandos listados a continuación serán los mismos que se usan en dicho SO. En este artículo se mostrará una descripción de los principales modos de uso para cada comando, pero si usted tiene algún requerimiento adicional, siempre puede buscar en foros como Stackoverflow o revisar la ayuda de cada comando, que consiste en colocar el nombre del comando seguido de `--help`. Por ejemplo, si deseo conocer la ayuda del comando `ls`, bastará con ejecutar `ls --help` en la Terminal.\n",
        "\n",
        "### Generar un listado de archivos\n",
        "\n",
        "### Generar un listado de archivos mostrando el tamaño de cada directorio\n",
        "\n",
        "* Comando: `du`\n",
        "* Modo de uso: `du ruta/archivo-folder.csv`\n",
        "\n",
        "Principales opciones:\n",
        "\n",
        "* `--human-readable` (o `-h`): cambia las unidades dinámicamente para evitar mostrar todo Kb. Esto es especialmente útil cuando se tiene objetos (subcarpetas o archivos) de gran tamaño.\n",
        "\n",
        "* `--summary` (o `-s`): muestra una tabla resumida, i.e. solo incluye las subcarpetas y archivos presentes en el primer nivel de búsqueda. Esto es útil cuando solo queremos echar un vistazo rápido y evitar que muestre un listado completo de TODAS las subcarpetas internas. \n",
        "\n",
        "Si deseo obtener un listado de todos los archivos y carpetas dentro de un folder con sus respectivos tamaños:\n",
        "\n",
        "\n",
        "```{bash, eval=FALSE}\n",
        "du ruta/de/folder/* --human-readable --summarize\n",
        "du ruta/de/folder/* -h -s\n",
        "```"
      ],
      "id": "4413e452"
    }
  ],
  "metadata": {
    "kernelspec": {
      "display_name": "Python 3",
      "language": "python",
      "name": "python3"
    }
  },
  "nbformat": 4,
  "nbformat_minor": 5
}